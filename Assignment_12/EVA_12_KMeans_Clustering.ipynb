{
  "nbformat": 4,
  "nbformat_minor": 0,
  "metadata": {
    "colab": {
      "name": "EVA 12 KMeans Clustering",
      "provenance": [],
      "authorship_tag": "ABX9TyPywg+XKa0+m9gomer/4+XX",
      "include_colab_link": true
    },
    "kernelspec": {
      "name": "python3",
      "display_name": "Python 3"
    }
  },
  "cells": [
    {
      "cell_type": "markdown",
      "metadata": {
        "id": "view-in-github",
        "colab_type": "text"
      },
      "source": [
        "<a href=\"https://colab.research.google.com/github/Anjalichimnani/EVA4/blob/master/Assignment_12/EVA_12_KMeans_Clustering.ipynb\" target=\"_parent\"><img src=\"https://colab.research.google.com/assets/colab-badge.svg\" alt=\"Open In Colab\"/></a>"
      ]
    },
    {
      "cell_type": "code",
      "metadata": {
        "id": "s7h0ygOzF_L9",
        "colab_type": "code",
        "outputId": "1d178108-29bb-49de-c5b7-9e037d3d13c9",
        "colab": {
          "base_uri": "https://localhost:8080/",
          "height": 122
        }
      },
      "source": [
        "# Mount the Google Drive to load the Libraries\n",
        "\n",
        "from google.colab import drive\n",
        "drive.mount('/content/drive', force_remount=True)"
      ],
      "execution_count": 1,
      "outputs": [
        {
          "output_type": "stream",
          "text": [
            "Go to this URL in a browser: https://accounts.google.com/o/oauth2/auth?client_id=947318989803-6bn6qk8qdgf4n4g3pfee6491hc0brc4i.apps.googleusercontent.com&redirect_uri=urn%3aietf%3awg%3aoauth%3a2.0%3aoob&response_type=code&scope=email%20https%3a%2f%2fwww.googleapis.com%2fauth%2fdocs.test%20https%3a%2f%2fwww.googleapis.com%2fauth%2fdrive%20https%3a%2f%2fwww.googleapis.com%2fauth%2fdrive.photos.readonly%20https%3a%2f%2fwww.googleapis.com%2fauth%2fpeopleapi.readonly\n",
            "\n",
            "Enter your authorization code:\n",
            "··········\n",
            "Mounted at /content/drive\n"
          ],
          "name": "stdout"
        }
      ]
    },
    {
      "cell_type": "code",
      "metadata": {
        "id": "9xu8tN_WGkH8",
        "colab_type": "code",
        "outputId": "ad19aa0c-846a-4a5a-e870-a9021a2a9fc0",
        "colab": {
          "base_uri": "https://localhost:8080/",
          "height": 34
        }
      },
      "source": [
        "# Define the root_path for library and data files\n",
        "root_path = '/content/drive/My Drive/EVA4/Assignment_12/files/'\n",
        "\n",
        "!ls '/content/drive/My Drive/EVA4/Assignment_12/files/'"
      ],
      "execution_count": 2,
      "outputs": [
        {
          "output_type": "stream",
          "text": [
            "data  dataloaders  imports  models  optimizer  supplements  visualization\n"
          ],
          "name": "stdout"
        }
      ]
    },
    {
      "cell_type": "code",
      "metadata": {
        "id": "fHKNdCQM3qui",
        "colab_type": "code",
        "colab": {}
      },
      "source": [
        "# Import the required classes for the KMeans Clustering\n",
        "\n",
        "import sys\n",
        "sys.path.append(root_path)\n",
        "from imports.imports_eva import *\n",
        "\n",
        "from supplements.Supplements import Supplements\n"
      ],
      "execution_count": 0,
      "outputs": []
    },
    {
      "cell_type": "code",
      "metadata": {
        "id": "BV-Tr1Pr4alT",
        "colab_type": "code",
        "colab": {}
      },
      "source": [
        "# Define Variables\n",
        "\n",
        "all_images = {}\n",
        "X = []\n",
        "wcss = []\n",
        "\n",
        "json_file = '/Final_Dog_Annotations.json'\n",
        "white_image_file = 'data/whiteimage.jpg'\n",
        "color = (0,0,0)\n",
        "thickness = 2"
      ],
      "execution_count": 0,
      "outputs": []
    },
    {
      "cell_type": "code",
      "metadata": {
        "id": "tp4yctwiHAr2",
        "colab_type": "code",
        "colab": {}
      },
      "source": [
        "# Load Annotated Json File and parse the Image Height/Width, and Annotation Center, Width, Height\n",
        "\n",
        "url = root_path + 'data/dogs'\n",
        "\n",
        "data = Supplements.load_data_json_file (url, json_file)\n",
        "\n",
        "all_images, X = Supplements.parse_json_image_details (url, data)"
      ],
      "execution_count": 0,
      "outputs": []
    },
    {
      "cell_type": "code",
      "metadata": {
        "id": "KL1AmdalL2OF",
        "colab_type": "code",
        "outputId": "f502ed3b-d25e-47fd-a125-30087d98a8b6",
        "colab": {
          "base_uri": "https://localhost:8080/",
          "height": 295
        }
      },
      "source": [
        "# Calculate the Within Cluster Sum-of-Squares, wcss and plot the respective information\n",
        "wcss = Supplements.kmeans_clusters_wcss(X, seed_range=10, init='k-means++', max_iter=300, n_init=15, random_state=0)\n",
        "\n",
        "plt.plot(range(1, 11), wcss)\n",
        "plt.title('Elbow Method')\n",
        "plt.xlabel('Number of clusters')\n",
        "plt.ylabel('WCSS')\n",
        "plt.show()"
      ],
      "execution_count": 6,
      "outputs": [
        {
          "output_type": "display_data",
          "data": {
            "image/png": "[encoded data removed]",
            "text/plain": [
              "<Figure size 432x288 with 1 Axes>"
            ]
          },
          "metadata": {
            "tags": [],
            "needs_background": "light"
          }
        }
      ]
    },
    {
      "cell_type": "markdown",
      "metadata": {
        "id": "pW8wk17qM0zH",
        "colab_type": "text"
      },
      "source": [
        "Based on Elbow Method, 4 or 5 clusters are appropriate since the wcss rate changes slowly after this clusters. \n",
        "Thus, we select 5 clusters and cosequently 5 Anchor Boxes as optimum. "
      ]
    },
    {
      "cell_type": "code",
      "metadata": {
        "id": "ziy7yBe0JrEJ",
        "colab_type": "code",
        "outputId": "dd802aeb-d9fa-40cb-e1b3-81cc82d8f60a",
        "colab": {
          "base_uri": "https://localhost:8080/",
          "height": 350
        }
      },
      "source": [
        "# Selecting 5 clusters and finding the K Means Centroid\n",
        "\n",
        "kmeans = KMeans(n_clusters=5, init='k-means++', max_iter=300, n_init=10, random_state=0)\n",
        "pred_y = kmeans.fit_predict(X)\n",
        "plt.scatter(X[:,0], X[:,1])\n",
        "plt.scatter(kmeans.cluster_centers_[:, 0], kmeans.cluster_centers_[:, 1], s=300, c='red')\n",
        "plt.show()\n",
        "\n",
        "print (kmeans.cluster_centers_)"
      ],
      "execution_count": 7,
      "outputs": [
        {
          "output_type": "display_data",
          "data": {
            "image/png": "[encoded data removed]",
            "text/plain": [
              "<Figure size 432x288 with 1 Axes>"
            ]
          },
          "metadata": {
            "tags": [],
            "needs_background": "light"
          }
        },
        {
          "output_type": "stream",
          "text": [
            "[[0.72413893 0.41951855]\n",
            " [0.92103758 0.57924166]\n",
            " [0.48804019 0.32618189]\n",
            " [0.56411423 0.75556204]\n",
            " [0.86243075 0.87917072]]\n"
          ],
          "name": "stdout"
        }
      ]
    },
    {
      "cell_type": "code",
      "metadata": {
        "id": "0LU5da_TcL9-",
        "colab_type": "code",
        "colab": {
          "base_uri": "https://localhost:8080/",
          "height": 517
        },
        "outputId": "616719ba-9793-44dd-ed1f-ec5b475cfd1d"
      },
      "source": [
        "# Making the Anchor Boxes based on the cluster height/width obtained. \n",
        "\n",
        "image = cv2.imread (root_path + white_image_file)\n",
        "anchor_image = Supplements.create_anchor_boxes(clusters=kmeans.cluster_centers_, image = image, color=color, thickness=thickness)\n",
        "\n",
        "cv2_imshow (anchor_image)"
      ],
      "execution_count": 8,
      "outputs": [
        {
          "output_type": "display_data",
          "data": {
            "image/png": "[encoded data removed]",
            "text/plain": [
              "<PIL.Image.Image image mode=RGB size=500x500 at 0x7F4ECF6926D8>"
            ]
          },
          "metadata": {
            "tags": []
          }
        }
      ]
    }
  ]
}